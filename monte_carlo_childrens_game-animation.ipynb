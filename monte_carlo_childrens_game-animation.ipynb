{
 "cells": [
  {
   "cell_type": "code",
   "execution_count": 3,
   "id": "54bbd678",
   "metadata": {},
   "outputs": [],
   "source": [
    "import turtle\n",
    "import random\n",
    "import matplotlib.pyplot as plt\n",
    "import math "
   ]
  },
  {
   "cell_type": "code",
   "execution_count": 4,
   "id": "5568d043",
   "metadata": {},
   "outputs": [],
   "source": [
    "def run(iters,trials):\n",
    "    try:\n",
    "        animatorTurtle = turtle.Turtle()\n",
    "        animatorTurtle.hideturtle()\n",
    "        animatorTurtle.speed(0)\n",
    "\n",
    "        # draw square \n",
    "        animatorTurtle.up()\n",
    "        animatorTurtle.setposition(-100,-100)\n",
    "        animatorTurtle.down()\n",
    "        animatorTurtle.fd(200)\n",
    "        animatorTurtle.left(90)\n",
    "        animatorTurtle.fd(200)\n",
    "\n",
    "        animatorTurtle.left(90)\n",
    "        animatorTurtle.fd(200)\n",
    "        animatorTurtle.left(90)\n",
    "        animatorTurtle.fd(200)\n",
    "        animatorTurtle.left(90)\n",
    "\n",
    "        # draw circle\n",
    "        animatorTurtle.up()\n",
    "        animatorTurtle.setposition(0,-100)\n",
    "        animatorTurtle.down()\n",
    "        animatorTurtle.circle(100)\n",
    "        # count the points inside and outside the circle :\n",
    "        in_circle = 0\n",
    "        out_circle = 0\n",
    "\n",
    "        # store the values of pi \n",
    "        pi_values = []\n",
    "\n",
    "        # run 'iters' times\n",
    "        for i in range(iters):\n",
    "            for j in range(trials):\n",
    "\n",
    "                # generate random numbers \n",
    "                x=random.randrange(-100,100)\n",
    "                y=random.randrange(-100,100)\n",
    "\n",
    "                # check if the number lies outside the circle \n",
    "                if (x**2 + y**2 > 100**2):\n",
    "                    animatorTurtle.color(\"black\")\n",
    "                    animatorTurtle.up()\n",
    "                    animatorTurtle.goto(x,y)\n",
    "                    animatorTurtle.down()\n",
    "                    animatorTurtle.dot()\n",
    "                    out_circle = out_circle+1\n",
    "\n",
    "                else:\n",
    "                    animatorTurtle.color(\"red\")\n",
    "                    animatorTurtle.up()\n",
    "                    animatorTurtle.goto(x,y)\n",
    "                    animatorTurtle.down()\n",
    "                    animatorTurtle.dot()\n",
    "                    in_circle = in_circle+1\n",
    "\n",
    "                # calculate pi \n",
    "                pi = 4.0 * in_circle / (in_circle + out_circle)\n",
    "                pi_values.append(pi)\n",
    "\n",
    "                # calculate the errors :\n",
    "                avg_pi_errors = [abs(math.pi - pi) for pi in pi_values]\n",
    "\n",
    "            # print the final value of PI for each iterations :\n",
    "            print (pi_values[-1])\n",
    "\n",
    "        # plot the pi values \n",
    "        plt.axhline(y=math.pi, color='g', linestyle='-')\n",
    "        plt.plot(pi_values)\n",
    "        plt.xlabel(\"Iterations\")\n",
    "        plt.ylabel(\"Value of $\\pi$\")\n",
    "        plt.show()\n",
    "\n",
    "        # plot the error in calculation \n",
    "        plt.axhline(y=0.0, color='g', linestyle='-')\n",
    "        plt.plot(avg_pi_errors)\n",
    "        plt.xlabel(\"Iterations\")\n",
    "        plt.ylabel(\"Error\")\n",
    "        plt.show()\n",
    "    except:\n",
    "        return print(\"finished\")"
   ]
  },
  {
   "cell_type": "code",
   "execution_count": 5,
   "id": "e6d785d0",
   "metadata": {},
   "outputs": [
    {
     "name": "stdout",
     "output_type": "stream",
     "text": [
      "finished\n"
     ]
    }
   ],
   "source": [
    "run(5,1000)"
   ]
  },
  {
   "cell_type": "code",
   "execution_count": null,
   "id": "34f0c532",
   "metadata": {},
   "outputs": [],
   "source": []
  }
 ],
 "metadata": {
  "kernelspec": {
   "display_name": "Python 3 (ipykernel)",
   "language": "python",
   "name": "python3"
  },
  "language_info": {
   "codemirror_mode": {
    "name": "ipython",
    "version": 3
   },
   "file_extension": ".py",
   "mimetype": "text/x-python",
   "name": "python",
   "nbconvert_exporter": "python",
   "pygments_lexer": "ipython3",
   "version": "3.9.9"
  }
 },
 "nbformat": 4,
 "nbformat_minor": 5
}
